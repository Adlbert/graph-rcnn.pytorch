{
 "cells": [
  {
   "cell_type": "code",
   "execution_count": null,
   "metadata": {},
   "outputs": [],
   "source": [
    "import matplotlib.pyplot as plt\n",
    "import h5py\n",
    "import cv2 as cv\n",
    "import numpy as np\n",
    "import json\n",
    "from matplotlib.pyplot import cm\n",
    "import networkx as nx\n",
    "import torch\n",
    "import sys\n",
    "sys.path.append('..')\n",
    "import lib.scene_parser\n",
    "from lib.scene_parser.rcnn.utils.visualize import select_top_predictions, select_top_pred_predictions, overlay_boxes, overlay_lines, overlay_class_names, overlay_pred_names, generate_graph, overlay_pred_boxes"
   ]
  },
  {
   "cell_type": "code",
   "execution_count": null,
   "metadata": {},
   "outputs": [],
   "source": [
    "dataset_dict = '/mnt/f/graph-rcnn/dataset/vg_bm/'\n",
    "results_dict = '/mnt/f/graph-rcnn/results/14000_2/'\n",
    "\n",
    "roi_h5 = h5py.File(dataset_dict + 'VG-SGG.h5', \"r\") \n",
    "im_h5 = h5py.File(dataset_dict + 'imdb_1024.h5', 'r')\n",
    "\n",
    "id = 12"
   ]
  },
  {
   "cell_type": "code",
   "execution_count": null,
   "metadata": {},
   "outputs": [],
   "source": [
    "with open(dataset_dict + 'VG-SGG-dicts.json') as json_file:\n",
    "    vgsgg = json.load(json_file)\n",
    "    idx_to_label_str = vgsgg['idx_to_label']\n",
    "idx_to_label = dict()\n",
    "for key, value in idx_to_label_str.items():\n",
    "    try:\n",
    "        idx_to_label[int(key)] = value\n",
    "    except ValueError:\n",
    "        idx_to_label[float(key)] = value"
   ]
  },
  {
   "cell_type": "code",
   "execution_count": null,
   "metadata": {},
   "outputs": [],
   "source": [
    "with open(dataset_dict + 'VG-SGG-dicts.json') as json_file:\n",
    "    vgsgg = json.load(json_file)\n",
    "    idx_to_predicate_str = vgsgg['idx_to_predicate']\n",
    "idx_to_predicate = dict()\n",
    "for key, value in idx_to_predicate_str.items():\n",
    "    try:\n",
    "        idx_to_predicate[int(key)] = value\n",
    "    except ValueError:\n",
    "        idx_to_predicate[float(key)] = value"
   ]
  },
  {
   "cell_type": "code",
   "execution_count": null,
   "metadata": {},
   "outputs": [],
   "source": [
    "im_h5.keys()"
   ]
  },
  {
   "cell_type": "code",
   "execution_count": null,
   "metadata": {},
   "outputs": [],
   "source": [
    "roi_h5.keys()"
   ]
  },
  {
   "cell_type": "code",
   "execution_count": null,
   "metadata": {},
   "outputs": [],
   "source": [
    "def print_attrs(name, obj):\n",
    "    print(name)\n",
    "    for key, val in obj.attrs.items():\n",
    "        print(\"    %s: %s\" % (key, val))"
   ]
  },
  {
   "cell_type": "code",
   "execution_count": null,
   "metadata": {},
   "outputs": [],
   "source": [
    "image_ids = im_h5['image_ids']\n",
    "print(image_ids[62774+id])\n",
    "img = im_h5['images'][62774+id]\n",
    "img = img.squeeze().transpose(1,2,0)\n",
    "img = cv.cvtColor(img, cv.COLOR_RGB2BGR)\n",
    "img_peview = img.copy()\n",
    "img_peview_2 = img.copy()\n",
    "\n",
    "data_split = roi_h5['split'][:]\n",
    "split_mask = data_split == 2\n",
    "\n",
    "print(np.sum(split_mask))\n",
    "\n",
    "image_index = np.where(split_mask)[0]\n",
    "\n",
    "split_mask = np.zeros_like(data_split).astype(bool)\n",
    "split_mask[image_index] = True\n",
    "\n",
    "all_labels = roi_h5['labels'][:, 0]\n",
    "all_predicates = roi_h5['predicates'][:, 0]\n",
    "all_relationships = roi_h5['relationships']\n",
    "all_boxes = roi_h5['boxes_{}'.format(1024)][:]  # will index later\n",
    "\n",
    "# convert from xc, yc, w, h to x1, y1, x2, y2\n",
    "all_boxes[:, :2] = all_boxes[:, :2] - all_boxes[:, 2:] / 2\n",
    "all_boxes[:, 2:] = all_boxes[:, :2] + all_boxes[:, 2:]\n",
    "\n",
    "im_to_first_box = roi_h5['img_to_first_box'][split_mask]\n",
    "im_to_last_box = roi_h5['img_to_last_box'][split_mask]\n",
    "im_to_first_rel = roi_h5['img_to_first_rel'][split_mask]\n",
    "im_to_last_rel = roi_h5['img_to_last_rel'][split_mask]\n"
   ]
  },
  {
   "cell_type": "code",
   "execution_count": null,
   "metadata": {},
   "outputs": [],
   "source": [
    "boxes_i = all_boxes[im_to_first_box[id]:im_to_last_box[id] + 1, :]\n",
    "gt_classes_i = all_labels[im_to_first_box[id]:im_to_last_box[id] + 1]\n",
    "gt_predicate_i = all_predicates[im_to_first_rel[id]:im_to_last_rel[id] + 1]\n",
    "relationships_i = []\n",
    "for rel in range(im_to_first_rel[id],im_to_last_rel[id] + 1):\n",
    "    relationships_i.append(roi_h5['relationships'][rel])\n",
    "boxes_rel_i = []\n",
    "for rel in relationships_i:\n",
    "    boxes_rel_i.append([all_boxes[rel[0]], all_boxes[rel[1]]])"
   ]
  },
  {
   "cell_type": "code",
   "execution_count": null,
   "metadata": {},
   "outputs": [],
   "source": [
    "roi_h5.close()\n",
    "im_h5.close()"
   ]
  },
  {
   "cell_type": "code",
   "execution_count": null,
   "metadata": {},
   "outputs": [],
   "source": [
    "\n",
    "colors = iter(cm.rainbow(np.linspace(0, 1, len(boxes_i))))\n",
    "font = cv.FONT_HERSHEY_SIMPLEX\n",
    "\n",
    "for num, bbox in enumerate(boxes_i):\n",
    "    start_point = (round(bbox[0]), round(bbox[1]))\n",
    "    end_point = (round(bbox[2]), round(bbox[3]))\n",
    "\n",
    "\n",
    "    color = tuple([255*x for x in next(colors)])\n",
    "\n",
    "    cv.rectangle(img_peview, start_point, end_point, color, 2)\n",
    "    start_point = (start_point[0],start_point[1]+20)\n",
    "    cv.putText(img_peview, \"{}, score: {}\".format(idx_to_label[gt_classes_i[num]], 'None'), start_point, font, 0.7, color, 1, cv.LINE_AA)"
   ]
  },
  {
   "cell_type": "code",
   "execution_count": null,
   "metadata": {},
   "outputs": [],
   "source": [
    "plt.figure(figsize=(15,25))\n",
    "plt.imshow(img_peview)\n",
    "plt.show()"
   ]
  },
  {
   "cell_type": "code",
   "execution_count": null,
   "metadata": {},
   "outputs": [],
   "source": [
    "# colors = iter(cm.rainbow(np.linspace(0, 1, len(boxes_i))))\n",
    "# font = cv.FONT_HERSHEY_SIMPLEX\n",
    "\n",
    "# for num, bbox in enumerate(boxes_rel_i):\n",
    "#     start_point = (round(bbox[0]), round(bbox[1]))\n",
    "#     end_point = (round(bbox[2]), round(bbox[3]))\n",
    "\n",
    "\n",
    "#     color = tuple([255*x for x in next(colors)])\n",
    "\n",
    "#     cv.rectangle(img_peview_2, start_point, end_point, color, 2)\n",
    "#     start_point = (start_point[0],start_point[1]+20)\n",
    "#     cv.putText(img_peview_2, \"{}, score: {}\".format(idx_to_predicate[gt_predicate_i[num]], 'None'), start_point, font, 0.7, color, 1, cv.LINE_AA)"
   ]
  },
  {
   "cell_type": "code",
   "execution_count": null,
   "metadata": {},
   "outputs": [],
   "source": [
    "# plt.figure(figsize=(15,25))\n",
    "# plt.imshow(img_peview_2)\n",
    "# plt.show()"
   ]
  },
  {
   "cell_type": "code",
   "execution_count": null,
   "metadata": {},
   "outputs": [],
   "source": [
    "def hash_tensor(tesnor):\n",
    "    hash = \"\"\n",
    "    for i in tesnor:\n",
    "        hash += str(i)\n",
    "    return hash\n",
    "\n",
    "def hash_numpy(array):\n",
    "    hash = \"\"\n",
    "    for i in array:\n",
    "        hash += str(i)\n",
    "    return hash"
   ]
  },
  {
   "cell_type": "code",
   "execution_count": null,
   "metadata": {},
   "outputs": [],
   "source": [
    "G = nx.DiGraph()\n",
    "labeldict = {}\n",
    "edge_labeldict = {}\n",
    "\n",
    "for num, box in enumerate(boxes_i):\n",
    "    box = hash_numpy(box)\n",
    "    G.add_node(box)\n",
    "    labeldict[box] = idx_to_label[gt_classes_i[num]]\n",
    "\n",
    "\n",
    "\n",
    "for num, rel_box in enumerate(boxes_rel_i):\n",
    "    b1 = rel_box[0]\n",
    "    b2 = rel_box[1]\n",
    "    n1 = None\n",
    "    n2 = None\n",
    "    relationships = relationships_i[num]\n",
    "    rel_box = all_boxes[relationships]\n",
    "\n",
    "    for box in boxes_i:\n",
    "        box = box\n",
    "        eq_1 = np.equal(b1, box)\n",
    "        eq_2 = np.equal(b2, box)\n",
    "        eq_all_1 = np.all(eq_1)\n",
    "        eq_all_2 = np.all(eq_2)\n",
    "        if eq_all_1:\n",
    "            n1 = box\n",
    "            pred = idx_to_predicate[gt_predicate_i[num]]\n",
    "        if eq_all_2:\n",
    "            n2 = box\n",
    "\n",
    "    if n1 is not None and n2 is not None:\n",
    "        h1 = hash_tensor(n1)\n",
    "        h2 = hash_tensor(n2)\n",
    "        label = \"{}: {}\".format(pred,None)\n",
    "        edge_labeldict[(h1,h2)] = label\n",
    "        G.add_edge(h1, h2,length=100)\n",
    "\n",
    "pos = nx.planar_layout(G)\n",
    "plt.figure(figsize=(5,10))\n",
    "nx.draw(G,pos, labels=labeldict, with_labels = True)\n",
    "nx.draw_networkx_edge_labels(\n",
    "    G,pos,\n",
    "    edge_labels=edge_labeldict,\n",
    "    font_color='red'\n",
    ")\n",
    "plt.show()\n"
   ]
  },
  {
   "cell_type": "code",
   "execution_count": null,
   "metadata": {},
   "outputs": [],
   "source": [
    "with open(results_dict + 'bbox.json') as json_file:\n",
    "    bbox = json.load(json_file)\n",
    "print(bbox[0])\n",
    "#idx_to_label = vgsgg['idx_to_label']"
   ]
  },
  {
   "cell_type": "code",
   "execution_count": null,
   "metadata": {},
   "outputs": [],
   "source": [
    "predictions = torch.load(results_dict + 'predictions.pth')\n",
    "prediction = predictions[id]\n",
    "prediction"
   ]
  },
  {
   "cell_type": "code",
   "execution_count": null,
   "metadata": {},
   "outputs": [],
   "source": [
    "prediction.bbox"
   ]
  },
  {
   "cell_type": "code",
   "execution_count": null,
   "metadata": {},
   "outputs": [],
   "source": [
    "prediction.extra_fields"
   ]
  },
  {
   "cell_type": "code",
   "execution_count": null,
   "metadata": {},
   "outputs": [],
   "source": [
    "predictions_pred = torch.load(results_dict + 'predictions_pred.pth')\n",
    "prediction_pred = predictions_pred[id]\n",
    "prediction_pred"
   ]
  },
  {
   "cell_type": "code",
   "execution_count": null,
   "metadata": {},
   "outputs": [],
   "source": [
    "prediction_pred.bbox"
   ]
  },
  {
   "cell_type": "code",
   "execution_count": null,
   "metadata": {},
   "outputs": [],
   "source": [
    "prediction_pred.extra_fields"
   ]
  },
  {
   "cell_type": "code",
   "execution_count": null,
   "metadata": {},
   "outputs": [],
   "source": [
    "top_prediction = select_top_predictions(prediction, confidence_threshold=0.0)\n",
    "top_prediction.bbox"
   ]
  },
  {
   "cell_type": "code",
   "execution_count": null,
   "metadata": {},
   "outputs": [],
   "source": [
    "\"\"\"\n",
    "Select only predictions which have a `score` > self.confidence_threshold,\n",
    "and returns the predictions in descending order of score\n",
    "Arguments:\n",
    "    predictions (BoxList): the result of the computation by the model.\n",
    "        It should contain the field `scores`.\n",
    "Returns:\n",
    "    prediction (BoxList): the detected objects. Additional information\n",
    "        of the detection properties can be found in the fields of\n",
    "        the BoxList via `prediction.fields()`\n",
    "\"\"\"\n",
    "predictions = prediction_pred\n",
    "confidence_threshold=0.4\n",
    "scores = predictions.get_field(\"scores\")\n",
    "scores = scores.max(1)[0]\n",
    "keep = torch.nonzero(scores > confidence_threshold).squeeze(1)\n",
    "predictions = predictions[keep]\n",
    "scores = scores[keep]\n",
    "#scores = predictions.get_field(\"scores\")\n",
    "_, idx = scores.sort(0, descending=True)\n",
    "predictions[idx]"
   ]
  },
  {
   "cell_type": "code",
   "execution_count": null,
   "metadata": {},
   "outputs": [],
   "source": [
    "top_pred_prediction = select_top_pred_predictions(prediction_pred, confidence_threshold=0.0)\n",
    "top_pred_prediction.extra_fields"
   ]
  },
  {
   "cell_type": "code",
   "execution_count": null,
   "metadata": {},
   "outputs": [],
   "source": [
    "result = overlay_boxes(img.copy(), top_prediction)\n",
    "result = overlay_class_names(result, top_prediction, idx_to_label)\n",
    "\n",
    "plt.figure(figsize=(15,25))\n",
    "plt.imshow(result)\n",
    "plt.show()"
   ]
  },
  {
   "cell_type": "code",
   "execution_count": null,
   "metadata": {},
   "outputs": [],
   "source": [
    "# result_pred = overlay_pred_boxes(img.copy(), top_pred_prediction)\n",
    "\n",
    "# result_pred = overlay_pred_names(result_pred, top_pred_prediction, idx_to_predicate)\n",
    "\n",
    "# plt.figure(figsize=(15,25))\n",
    "# plt.imshow(result_pred)\n",
    "# plt.show()"
   ]
  },
  {
   "cell_type": "code",
   "execution_count": null,
   "metadata": {},
   "outputs": [],
   "source": [
    "predictions, pred_predictions, categories, predicates = top_prediction, top_pred_prediction, idx_to_label, idx_to_predicate\n",
    "\n",
    "G = nx.DiGraph()\n",
    "labeldict = {}\n",
    "edge_labeldict = {}\n",
    "\n",
    "scores = predictions.get_field(\"scores\").tolist()\n",
    "pred_labels = predictions.get_field(\"labels\").tolist()\n",
    "labels = [categories[i] for i in pred_labels]\n",
    "pred_labels = [predicates[i] for i in pred_labels]\n",
    "boxes = predictions.bbox\n",
    "\n",
    "for num, (box, score, label) in enumerate(zip(boxes, scores, labels)):\n",
    "    box = hash_tensor(box.int())\n",
    "    G.add_node(box)\n",
    "    labeldict[box] = label\n",
    "\n",
    "\n",
    "pred_scores = pred_predictions.get_field(\"scores\").tolist()\n",
    "pred_scores = max(pred_scores)\n",
    "idx_pairs = pred_predictions.get_field(\"idx_pairs\").tolist()\n",
    "predicates_pairs = [[predicates[j] for j in i] for i in idx_pairs]\n",
    "pred_boxes = pred_predictions.bbox\n",
    "\n",
    "\n",
    "\n",
    "for num, (pred_box, pred_score, predicate, box, score, label, idx_pair) in enumerate(zip(pred_boxes, pred_scores, predicates_pairs, boxes, scores, labels, idx_pairs)):\n",
    "    pred_box = pred_box.int()\n",
    "    b1 = pred_box[:4]\n",
    "    b2 = pred_box[4:8]\n",
    "\n",
    "    print(pred_labels[idx_pair[0]])\n",
    "    print(pred_labels[idx_pair[1]])\n",
    "\n",
    "    n1 = None\n",
    "    n2 = None\n",
    "\n",
    "    for box in boxes:\n",
    "        box = box.int()\n",
    "        eq_1 = torch.eq(b1, box)\n",
    "        eq_2 = torch.eq(b2, box)\n",
    "        eq_all_1 = torch.all(eq_1)\n",
    "        eq_all_2 = torch.all(eq_2)\n",
    "        if eq_all_1:\n",
    "            n1 = box\n",
    "            pred = predicate[0]\n",
    "            score = pred_score\n",
    "        if eq_all_2:\n",
    "            n2 = box\n",
    "\n",
    "    if n1 is not None and n2 is not None:\n",
    "        h1 = hash_tensor(n1)\n",
    "        h2 = hash_tensor(n2)\n",
    "        edge_labeldict[(h1,h2)] = \"{}: {}\".format(pred,round(score,2))\n",
    "        G.add_edge(h1, h2)\n",
    "\n",
    "pos = nx.planar_layout(G)\n",
    "plt.figure(figsize=(15,25))\n",
    "nx.draw(G,pos, labels=labeldict, with_labels = True)\n",
    "nx.draw_networkx_edge_labels(\n",
    "    G,pos,\n",
    "    edge_labels=edge_labeldict,\n",
    "    font_color='red'\n",
    ")\n",
    "print()\n"
   ]
  },
  {
   "cell_type": "code",
   "execution_count": null,
   "metadata": {},
   "outputs": [],
   "source": [
    "for num, box in enumerate(boxes):\n",
    "    box = box.int()\n",
    "    for pred_num, pred_box in enumerate(pred_boxes):\n",
    "        pred_box_1 = pred_box.int()[:4]\n",
    "        pred_box_2 = pred_box.int()[4:8]\n",
    "        a = torch.eq(box, pred_box_1)\n",
    "        b = torch.all(a)\n",
    "        if b:\n",
    "            for sub_num, bx in enumerate(boxes):\n",
    "                bx = bx.int()\n",
    "                a = torch.eq(pred_box_2, bx)\n",
    "                b = torch.all(a)\n",
    "                if b:\n",
    "                    print(\"{}:{}:1\".format(num, sub_num))\n",
    "            break\n",
    "        a = torch.eq(box, pred_box_2)\n",
    "        b = torch.all(a)\n",
    "        if b:\n",
    "            for sub_num, bx in enumerate(boxes):\n",
    "                bx = bx.int()\n",
    "                a = torch.eq(pred_box_2, bx)\n",
    "                b = torch.all(a)\n",
    "                if b:\n",
    "                    print(\"{}:{}:2\".format(num, sub_num))\n",
    "            break"
   ]
  },
  {
   "cell_type": "code",
   "execution_count": null,
   "metadata": {},
   "outputs": [],
   "source": [
    "graph, labeldict, edge_labeldict = generate_graph(top_prediction, top_pred_prediction, idx_to_label, idx_to_predicate)\n",
    "nx.draw(graph, labels=labeldict, with_labels = True)\n",
    "# plt.savefig(os.path.join(visualize_folder, \"detection_graph_{}.jpg\".format(img_ids[i])))\n",
    "# plt.close()"
   ]
  },
  {
   "cell_type": "code",
   "execution_count": null,
   "metadata": {},
   "outputs": [],
   "source": [
    "G = nx.Graph()\n",
    "G.add_node('A')\n",
    "G.add_node('B')\n",
    "G.add_edge('A','B')\n",
    "nx.draw(G, with_labels=True)\n"
   ]
  },
  {
   "cell_type": "code",
   "execution_count": null,
   "metadata": {},
   "outputs": [],
   "source": [
    "idx_pairs = top_pred_prediction.get_field(\"idx_pairs\")\n",
    "temp = torch.ones((idx_pairs.size(0), 1),  dtype=torch.int64)\n",
    "print(temp.size())\n",
    "print(idx_pairs.size())\n",
    "idx_pairs = torch.cat((temp, idx_pairs), 1)\n",
    "print(idx_pairs.size())\n",
    "idx_pairs"
   ]
  }
 ],
 "metadata": {
  "interpreter": {
   "hash": "7a13e8d9a4888e35af7f33045d7cfb346531fdcc948bca26b16cd6521ad307cc"
  },
  "kernelspec": {
   "display_name": "Python 3.7.11 ('sg-dev')",
   "language": "python",
   "name": "python3"
  },
  "language_info": {
   "codemirror_mode": {
    "name": "ipython",
    "version": 3
   },
   "file_extension": ".py",
   "mimetype": "text/x-python",
   "name": "python",
   "nbconvert_exporter": "python",
   "pygments_lexer": "ipython3",
   "version": "3.7.11"
  },
  "orig_nbformat": 4
 },
 "nbformat": 4,
 "nbformat_minor": 2
}
